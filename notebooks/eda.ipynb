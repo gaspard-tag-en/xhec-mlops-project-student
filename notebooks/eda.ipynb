{
 "cells": [
  {
   "attachments": {},
   "cell_type": "markdown",
   "metadata": {},
   "source": [
    "# EDA (Exploratory Data Analysis) of the dataset\n",
    "\n",
    "In this notebook, explore the Abalone dataset.\n",
    "\n",
    "Add any relevant insight for future modelling."
   ]
  },
  {
   "attachments": {},
   "cell_type": "markdown",
   "metadata": {},
   "source": [
    "# Imports"
   ]
  },
  {
   "cell_type": "code",
   "execution_count": null,
   "metadata": {},
   "outputs": [],
   "source": [
    "%load_ext autoreload\n",
    "%autoreload 2\n",
    "\n",
    "import pandas as pd\n",
    "pd.set_option('display.max_columns', 500)\n",
    "import numpy as np\n",
    "import os\n",
    "\n",
    "\n",
    "from sklearn.compose import ColumnTransformer\n",
    "from sklearn.pipeline import Pipeline\n",
    "from sklearn.preprocessing import OneHotEncoder\n",
    "from sklearn.linear_model import LinearRegression\n",
    "from sklearn.model_selection import train_test_split\n",
    "from sklearn.metrics import mean_squared_error"
   ]
  },
  {
   "cell_type": "code",
   "execution_count": null,
   "metadata": {},
   "outputs": [],
   "source": [
    "!pip install xgboost"
   ]
  },
  {
   "cell_type": "code",
   "execution_count": null,
   "metadata": {},
   "outputs": [],
   "source": [
    "from sklearn.ensemble import RandomForestRegressor\n",
    "from xgboost import XGBRegressor\n",
    "from sklearn.neighbors import KNeighborsRegressor\n",
    "\n",
    "from sklearn.metrics import roc_auc_score"
   ]
  },
  {
   "attachments": {},
   "cell_type": "markdown",
   "metadata": {},
   "source": [
    "# Data"
   ]
  },
  {
   "cell_type": "code",
   "execution_count": null,
   "metadata": {},
   "outputs": [],
   "source": [
    "DATA_FOLDER = \"../data\"\n",
    "df_train = pd.read_csv(os.path.join(DATA_FOLDER, \"abalone.csv\"))"
   ]
  },
  {
   "cell_type": "code",
   "execution_count": null,
   "metadata": {},
   "outputs": [],
   "source": [
    "data_path = \"../data/abalone.csv\""
   ]
  },
  {
   "attachments": {},
   "cell_type": "markdown",
   "metadata": {},
   "source": [
    "# EDA"
   ]
  },
  {
   "cell_type": "code",
   "execution_count": null,
   "metadata": {},
   "outputs": [],
   "source": [
    "df_train.head()\n"
   ]
  },
  {
   "cell_type": "code",
   "execution_count": null,
   "metadata": {},
   "outputs": [],
   "source": [
    "df_train.isna().sum()"
   ]
  },
  {
   "cell_type": "code",
   "execution_count": null,
   "metadata": {},
   "outputs": [],
   "source": [
    "# Define categorical columns\n",
    "categorical_columns = ['Sex']\n",
    "\n",
    "# Split the data into features and target\n",
    "X = df_train.drop('Rings', axis=1)\n",
    "y = df_train['Rings'] + 1.5\n",
    "\n",
    "# Create a column transformer to encode categorical columns\n",
    "categorical_transformer = Pipeline(steps=[\n",
    "    ('onehot', OneHotEncoder(handle_unknown='ignore'))\n",
    "])\n",
    "\n",
    "preprocessor = ColumnTransformer(\n",
    "    transformers=[\n",
    "        ('cat', categorical_transformer, categorical_columns)\n",
    "    ],\n",
    "    remainder='passthrough'  # Pass through the numeric columns\n",
    ")\n",
    "\n",
    "\n",
    "# Create a pipeline that first preprocesses the data and then applies Linear Regression\n",
    "pipeline = Pipeline(steps=[\n",
    "    ('preprocessor', preprocessor),\n",
    "    ('regressor', LinearRegression())\n",
    "])\n",
    "\n",
    "# Split the data into training and testing sets\n",
    "X_train, X_test, y_train, y_test = train_test_split(X, y, test_size=0.2, random_state=42)\n",
    "\n",
    "# Fit the pipeline on the training data\n",
    "pipeline.fit(X_train, y_train)\n",
    "\n",
    "# Make predictions\n",
    "y_pred = pipeline.predict(X_test)\n",
    "\n",
    "# Evaluate the model (you can use different metrics)\n",
    "mse = mean_squared_error(y_test, y_pred)\n",
    "print(f\"Mean Squared Error: {mse}\")\n"
   ]
  },
  {
   "cell_type": "markdown",
   "metadata": {},
   "source": [
    "## Encode in functions"
   ]
  },
  {
   "cell_type": "code",
   "execution_count": null,
   "metadata": {},
   "outputs": [],
   "source": [
    "DATA_FOLDER = \"../data\"\n",
    "\n",
    "def load_data(path: str):\n",
    "    return pd.read_csv(os.path.join(DATA_FOLDER, \"abalone.csv\"))\n",
    "\n",
    "def compute_target(df: pd.DataFrame):\n",
    "    return df['Rings'] + 1.5\n",
    "\n",
    "def extract_x_y(df):\n",
    "    X = df.drop('Rings', axis=1)\n",
    "    y = compute_target(df)\n",
    "    return X, y\n",
    "\n",
    "def define_pipeline(cat_cols : list, Regressor):\n",
    "    categorical_transformer = Pipeline(steps=[\n",
    "        ('onehot', OneHotEncoder(handle_unknown='ignore'))\n",
    "    ])\n",
    "\n",
    "    preprocessor = ColumnTransformer(\n",
    "        transformers=[\n",
    "            ('cat', categorical_transformer, cat_cols)\n",
    "        ],\n",
    "        \n",
    "        remainder='passthrough'  # Pass through the numeric columns\n",
    "    )\n",
    "\n",
    "    # Create a pipeline that first preprocesses the data and then applies Linear Regression\n",
    "    pipeline = Pipeline(steps=[\n",
    "        ('preprocessor', preprocessor),\n",
    "        ('regressor', Regressor())\n",
    "    ])\n",
    "    \n",
    "    return pipeline\n",
    "\n",
    "def train_model(pipeline: Pipeline, x_train: pd.DataFrame, y_train: pd.DataFrame):\n",
    "    model = pipeline.fit(x_train, y_train)\n",
    "    return model\n",
    "\n",
    "\n",
    "def predict_age(input_data: pd.DataFrame, model: Pipeline):\n",
    "    return model.predict(input_data)\n",
    "\n",
    "def evaluate_model(y_true: np.ndarray, y_pred: np.ndarray):\n",
    "    return mean_squared_error(y_true, y_pred, squared=False)"
   ]
  },
  {
   "cell_type": "code",
   "execution_count": null,
   "metadata": {},
   "outputs": [],
   "source": [
    "import mlflow\n",
    "\n",
    "print(f\"tracking URI: '{mlflow.get_tracking_uri()}'\")"
   ]
  },
  {
   "cell_type": "code",
   "execution_count": null,
   "metadata": {},
   "outputs": [],
   "source": [
    "from mlflow.tracking import MlflowClient"
   ]
  },
  {
   "cell_type": "code",
   "execution_count": null,
   "metadata": {},
   "outputs": [],
   "source": [
    "# Set the experiment name\n",
    "mlflow.set_experiment(\"Abalone_age_prediction\")\n",
    "# Start a run\n",
    "with mlflow.start_run() as run:\n",
    "    run_id = run.info.run_id\n",
    "    # Set tags for the run\n",
    "    ...\n",
    "    # Load data\n",
    "    df = load_data(data_path)\n",
    "    # train test split\n",
    "    train_df, test_df = train_test_split(df, test_size=0.2, random_state=42)\n",
    "    # Extract X and y\n",
    "    X_train, y_train = extract_x_y(train_df)\n",
    "    # Define pipeline \n",
    "    pipeline = define_pipeline(['Sex'], KNeighborsRegressor)\n",
    "    # Train model\n",
    "    model = train_model(pipeline, X_train, y_train)\n",
    "    # Evaluate model\n",
    "    prediction = predict_age(X_train, model)\n",
    "    train_me = evaluate_model(y_train, prediction)\n",
    "    # Evaluate model on test set\n",
    "    X_test, y_test = extract_x_y(test_df)\n",
    "    y_pred_test = predict_age(X_test, model)\n",
    "    test_me = evaluate_model(y_test, y_pred_test)\n",
    "    # Log your model\n",
    "    run_id = run.info.run_id #permet de savoir ou chercher le modèle\n",
    "    # MLflow log param\n",
    "    mlflow.log_metric('test_me', test_me)\n",
    "    mlflow.sklearn.log_model(model, \"model.pkl\")\n",
    "    mlflow.register_model(f\"runs:/{run_id}/models\", \"Abalone_age_prediction\")"
   ]
  },
  {
   "cell_type": "code",
   "execution_count": null,
   "metadata": {},
   "outputs": [],
   "source": [
    "client = MlflowClient()\n",
    "experiments = client.search_experiments()\n",
    "experiments"
   ]
  },
  {
   "cell_type": "code",
   "execution_count": null,
   "metadata": {},
   "outputs": [],
   "source": [
    "!mlflow ui --host 0.0.0.0 --port 5002"
   ]
  }
 ],
 "metadata": {
  "kernelspec": {
   "display_name": "base",
   "language": "python",
   "name": "python3"
  },
  "language_info": {
   "codemirror_mode": {
    "name": "ipython",
    "version": 3
   },
   "file_extension": ".py",
   "mimetype": "text/x-python",
   "name": "python",
   "nbconvert_exporter": "python",
   "pygments_lexer": "ipython3",
   "version": "3.10.13"
  }
 },
 "nbformat": 4,
 "nbformat_minor": 2
}
